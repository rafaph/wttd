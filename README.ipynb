{
 "cells": [],
 "metadata": {
  "kernelspec": {
   "display_name": "Python 3",
   "language": "python",
   "name": "python3"
  },
  "language_info": {
   "codemirror_mode": {
    "name": "ipython",
    "version": 2
   },
   "file_extension": ".py",
   "mimetype": "text/x-python",
   "name": "python",
   "nbconvert_exporter": "python",
   "pygments_lexer": "ipython2",
   "version": "2.7.6"
  },
  "pycharm": {
   "stem_cell": {
    "cell_type": "raw",
    "source": [
     "\n",
     "\n",
     "# HappyNumbers\n",
     "\n",
     "## Como saber se um número é *feliz* ou *triste*?\n",
     "\n",
     "1. Dado um número inteiro positivo.\n",
     "2. Substitua o número pela *soma dos quadrados dos seus dígitos*.\n",
     "3. Se o resultado for *1*, o número é feliz.\n",
     "4. Caso contráio, repita o processo indefinidamente.\n",
     "\n",
     "\n",
     "- Os números que resultarem em *1*, são felizes.\n",
     "- Os números que não resultarem em 1 são tristes.\n",
     "\n",
     "## Exemplo\n",
     "\n",
     "### O número **7** é feliz?\n",
     "- $7^2 = 49$\n",
     "- $4^2 + 9^2 = 16 + 81 = 97$\n",
     "- $9^2 + 7^2 = 81 + 49 = 130$\n",
     "- $1^2 + 3^2 + 0^2 = 1 + 9 + 0 = 10$\n",
     "- $1^2 + 0^2 = 1$\n",
     "\n",
     "**7 é feliz!**\n",
     "\n",
     "### O número **4** é feliz?\n",
     "\n",
     "- $4^2 = 16$ \n",
     "- $1^2 + 6^2 = 1 + 36 = 37$\n",
     "- $3^2 + 7^2 = 9 + 49 = 58$\n",
     "- $5^2 + 8^2 = 25 + 64 = 89$\n",
     "- $8^2 + 9^2 = 64 + 81 = 145$\n",
     "- $1^2 + 4^2 + 5^2 = 1 + 16 + 25 = 42$\n",
     "- $4^2 + 2^2 = 16 + 4 = 20$\n",
     "- $2^2 + 0^2 = 4 + 0 = 4$\n",
     "\n",
     "**4 não é feliz!**\n"
    ],
    "metadata": {
     "collapsed": false
    }
   }
  }
 },
 "nbformat": 4,
 "nbformat_minor": 0
}